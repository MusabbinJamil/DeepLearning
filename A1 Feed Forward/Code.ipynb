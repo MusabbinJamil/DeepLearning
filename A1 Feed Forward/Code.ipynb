{
 "cells": [
  {
   "cell_type": "code",
   "execution_count": 1,
   "metadata": {},
   "outputs": [
    {
     "name": "stdout",
     "output_type": "stream",
     "text": [
      "Final output after training:\n",
      "[[0.4776321 ]\n",
      " [0.49821705]\n",
      " [0.55201963]\n",
      " [0.5062738 ]]\n"
     ]
    }
   ],
   "source": [
    "import numpy as np\n",
    "\n",
    "# Sigmoid and sigmoid derivative functions (same as before)\n",
    "def sigmoid(x):\n",
    "    return 1 / (1 + np.exp(-x))\n",
    "\n",
    "def sigmoid_derivative(x):\n",
    "    return sigmoid(x) * (1 - sigmoid(x))\n",
    "\n",
    "# XOR problem toy data (same as before)\n",
    "X = np.array([[0, 0], [0, 1], [1, 0], [1, 1]])\n",
    "y = np.array([[0], [1], [1], [0]])\n",
    "\n",
    "# Initialize weights randomly for hidden layer (2 inputs, 2 hidden units) and output layer (2 hidden units, 1 output)\n",
    "np.random.seed(0)\n",
    "weights_hidden = np.random.randn(2, 2)  # 2 input features, 2 hidden units\n",
    "weights_output = np.random.randn(2, 1)  # 2 hidden units, 1 output unit\n",
    "\n",
    "# Learning rate\n",
    "lr = 0.5\n",
    "\n",
    "# Forward pass through 1 hidden layer\n",
    "def forward_pass(X, weights_hidden, weights_output):\n",
    "    # Hidden layer computations\n",
    "    hidden_input = np.dot(X, weights_hidden)\n",
    "    hidden_output = sigmoid(hidden_input)\n",
    "    \n",
    "    # Output layer computations\n",
    "    final_input = np.dot(hidden_output, weights_output)\n",
    "    final_output = sigmoid(final_input)\n",
    "    \n",
    "    return hidden_output, final_output\n",
    "\n",
    "# Backward pass to update weights (Backpropagation)\n",
    "def backward_pass(X, y, hidden_output, final_output, weights_hidden, weights_output):\n",
    "    # Calculate output layer error and gradient\n",
    "    error = y - final_output\n",
    "    d_output = error * sigmoid_derivative(final_output)\n",
    "    \n",
    "    # Calculate hidden layer error and gradient\n",
    "    hidden_error = d_output.dot(weights_output.T)\n",
    "    d_hidden = hidden_error * sigmoid_derivative(hidden_output)\n",
    "    \n",
    "    # Update weights\n",
    "    weights_output += hidden_output.T.dot(d_output) * lr\n",
    "    weights_hidden += X.T.dot(d_hidden) * lr\n",
    "\n",
    "# Training the network with multiple iterations\n",
    "for epoch in range(10000):\n",
    "    hidden_output, final_output = forward_pass(X, weights_hidden, weights_output)\n",
    "    backward_pass(X, y, hidden_output, final_output, weights_hidden, weights_output)\n",
    "\n",
    "# Final output after training\n",
    "print(f\"Final output after training:\\n{final_output}\")\n"
   ]
  }
 ],
 "metadata": {
  "kernelspec": {
   "display_name": "base",
   "language": "python",
   "name": "python3"
  },
  "language_info": {
   "codemirror_mode": {
    "name": "ipython",
    "version": 3
   },
   "file_extension": ".py",
   "mimetype": "text/x-python",
   "name": "python",
   "nbconvert_exporter": "python",
   "pygments_lexer": "ipython3",
   "version": "3.11.9"
  }
 },
 "nbformat": 4,
 "nbformat_minor": 2
}
